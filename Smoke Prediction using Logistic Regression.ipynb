{
 "cells": [
  {
   "cell_type": "code",
   "execution_count": 2,
   "id": "e4fc25c5",
   "metadata": {},
   "outputs": [],
   "source": [
    "# Import library.\n",
    "import pandas as pd\n",
    "import numpy as np\n",
    "import matplotlib.pyplot as plt\n",
    "import seaborn as sns"
   ]
  },
  {
   "cell_type": "code",
   "execution_count": 3,
   "id": "303084ac",
   "metadata": {},
   "outputs": [],
   "source": [
    "df=pd.read_csv(\"smoking.csv\")"
   ]
  },
  {
   "cell_type": "code",
   "execution_count": 4,
   "id": "3211a7c6",
   "metadata": {},
   "outputs": [
    {
     "data": {
      "text/html": [
       "<div>\n",
       "<style scoped>\n",
       "    .dataframe tbody tr th:only-of-type {\n",
       "        vertical-align: middle;\n",
       "    }\n",
       "\n",
       "    .dataframe tbody tr th {\n",
       "        vertical-align: top;\n",
       "    }\n",
       "\n",
       "    .dataframe thead th {\n",
       "        text-align: right;\n",
       "    }\n",
       "</style>\n",
       "<table border=\"1\" class=\"dataframe\">\n",
       "  <thead>\n",
       "    <tr style=\"text-align: right;\">\n",
       "      <th></th>\n",
       "      <th>Unnamed: 0</th>\n",
       "      <th>gender</th>\n",
       "      <th>age</th>\n",
       "      <th>marital_status</th>\n",
       "      <th>highest_qualification</th>\n",
       "      <th>nationality</th>\n",
       "      <th>ethnicity</th>\n",
       "      <th>gross_income</th>\n",
       "      <th>region</th>\n",
       "      <th>smoke</th>\n",
       "      <th>amt_weekends</th>\n",
       "      <th>amt_weekdays</th>\n",
       "      <th>type</th>\n",
       "    </tr>\n",
       "  </thead>\n",
       "  <tbody>\n",
       "    <tr>\n",
       "      <th>0</th>\n",
       "      <td>1</td>\n",
       "      <td>Male</td>\n",
       "      <td>38</td>\n",
       "      <td>Divorced</td>\n",
       "      <td>No Qualification</td>\n",
       "      <td>British</td>\n",
       "      <td>White</td>\n",
       "      <td>2,600 to 5,200</td>\n",
       "      <td>The North</td>\n",
       "      <td>No</td>\n",
       "      <td>NaN</td>\n",
       "      <td>NaN</td>\n",
       "      <td>NaN</td>\n",
       "    </tr>\n",
       "    <tr>\n",
       "      <th>1</th>\n",
       "      <td>2</td>\n",
       "      <td>Female</td>\n",
       "      <td>42</td>\n",
       "      <td>Single</td>\n",
       "      <td>No Qualification</td>\n",
       "      <td>British</td>\n",
       "      <td>White</td>\n",
       "      <td>Under 2,600</td>\n",
       "      <td>The North</td>\n",
       "      <td>Yes</td>\n",
       "      <td>12.0</td>\n",
       "      <td>12.0</td>\n",
       "      <td>Packets</td>\n",
       "    </tr>\n",
       "    <tr>\n",
       "      <th>2</th>\n",
       "      <td>3</td>\n",
       "      <td>Male</td>\n",
       "      <td>40</td>\n",
       "      <td>Married</td>\n",
       "      <td>Degree</td>\n",
       "      <td>English</td>\n",
       "      <td>White</td>\n",
       "      <td>28,600 to 36,400</td>\n",
       "      <td>The North</td>\n",
       "      <td>No</td>\n",
       "      <td>NaN</td>\n",
       "      <td>NaN</td>\n",
       "      <td>NaN</td>\n",
       "    </tr>\n",
       "    <tr>\n",
       "      <th>3</th>\n",
       "      <td>4</td>\n",
       "      <td>Female</td>\n",
       "      <td>40</td>\n",
       "      <td>Married</td>\n",
       "      <td>Degree</td>\n",
       "      <td>English</td>\n",
       "      <td>White</td>\n",
       "      <td>10,400 to 15,600</td>\n",
       "      <td>The North</td>\n",
       "      <td>No</td>\n",
       "      <td>NaN</td>\n",
       "      <td>NaN</td>\n",
       "      <td>NaN</td>\n",
       "    </tr>\n",
       "    <tr>\n",
       "      <th>4</th>\n",
       "      <td>5</td>\n",
       "      <td>Female</td>\n",
       "      <td>39</td>\n",
       "      <td>Married</td>\n",
       "      <td>GCSE/O Level</td>\n",
       "      <td>British</td>\n",
       "      <td>White</td>\n",
       "      <td>2,600 to 5,200</td>\n",
       "      <td>The North</td>\n",
       "      <td>No</td>\n",
       "      <td>NaN</td>\n",
       "      <td>NaN</td>\n",
       "      <td>NaN</td>\n",
       "    </tr>\n",
       "    <tr>\n",
       "      <th>...</th>\n",
       "      <td>...</td>\n",
       "      <td>...</td>\n",
       "      <td>...</td>\n",
       "      <td>...</td>\n",
       "      <td>...</td>\n",
       "      <td>...</td>\n",
       "      <td>...</td>\n",
       "      <td>...</td>\n",
       "      <td>...</td>\n",
       "      <td>...</td>\n",
       "      <td>...</td>\n",
       "      <td>...</td>\n",
       "      <td>...</td>\n",
       "    </tr>\n",
       "    <tr>\n",
       "      <th>1686</th>\n",
       "      <td>1687</td>\n",
       "      <td>Male</td>\n",
       "      <td>22</td>\n",
       "      <td>Single</td>\n",
       "      <td>No Qualification</td>\n",
       "      <td>Scottish</td>\n",
       "      <td>White</td>\n",
       "      <td>2,600 to 5,200</td>\n",
       "      <td>Scotland</td>\n",
       "      <td>No</td>\n",
       "      <td>NaN</td>\n",
       "      <td>NaN</td>\n",
       "      <td>NaN</td>\n",
       "    </tr>\n",
       "    <tr>\n",
       "      <th>1687</th>\n",
       "      <td>1688</td>\n",
       "      <td>Female</td>\n",
       "      <td>49</td>\n",
       "      <td>Divorced</td>\n",
       "      <td>Other/Sub Degree</td>\n",
       "      <td>English</td>\n",
       "      <td>White</td>\n",
       "      <td>2,600 to 5,200</td>\n",
       "      <td>Scotland</td>\n",
       "      <td>Yes</td>\n",
       "      <td>20.0</td>\n",
       "      <td>20.0</td>\n",
       "      <td>Hand-Rolled</td>\n",
       "    </tr>\n",
       "    <tr>\n",
       "      <th>1688</th>\n",
       "      <td>1689</td>\n",
       "      <td>Male</td>\n",
       "      <td>45</td>\n",
       "      <td>Married</td>\n",
       "      <td>Other/Sub Degree</td>\n",
       "      <td>Scottish</td>\n",
       "      <td>White</td>\n",
       "      <td>5,200 to 10,400</td>\n",
       "      <td>Scotland</td>\n",
       "      <td>No</td>\n",
       "      <td>NaN</td>\n",
       "      <td>NaN</td>\n",
       "      <td>NaN</td>\n",
       "    </tr>\n",
       "    <tr>\n",
       "      <th>1689</th>\n",
       "      <td>1690</td>\n",
       "      <td>Female</td>\n",
       "      <td>51</td>\n",
       "      <td>Married</td>\n",
       "      <td>No Qualification</td>\n",
       "      <td>English</td>\n",
       "      <td>White</td>\n",
       "      <td>2,600 to 5,200</td>\n",
       "      <td>Scotland</td>\n",
       "      <td>Yes</td>\n",
       "      <td>20.0</td>\n",
       "      <td>20.0</td>\n",
       "      <td>Packets</td>\n",
       "    </tr>\n",
       "    <tr>\n",
       "      <th>1690</th>\n",
       "      <td>1691</td>\n",
       "      <td>Male</td>\n",
       "      <td>31</td>\n",
       "      <td>Married</td>\n",
       "      <td>Degree</td>\n",
       "      <td>Scottish</td>\n",
       "      <td>White</td>\n",
       "      <td>10,400 to 15,600</td>\n",
       "      <td>Scotland</td>\n",
       "      <td>No</td>\n",
       "      <td>NaN</td>\n",
       "      <td>NaN</td>\n",
       "      <td>NaN</td>\n",
       "    </tr>\n",
       "  </tbody>\n",
       "</table>\n",
       "<p>1691 rows × 13 columns</p>\n",
       "</div>"
      ],
      "text/plain": [
       "      Unnamed: 0  gender  age marital_status highest_qualification  \\\n",
       "0              1    Male   38       Divorced      No Qualification   \n",
       "1              2  Female   42         Single      No Qualification   \n",
       "2              3    Male   40        Married                Degree   \n",
       "3              4  Female   40        Married                Degree   \n",
       "4              5  Female   39        Married          GCSE/O Level   \n",
       "...          ...     ...  ...            ...                   ...   \n",
       "1686        1687    Male   22         Single      No Qualification   \n",
       "1687        1688  Female   49       Divorced      Other/Sub Degree   \n",
       "1688        1689    Male   45        Married      Other/Sub Degree   \n",
       "1689        1690  Female   51        Married      No Qualification   \n",
       "1690        1691    Male   31        Married                Degree   \n",
       "\n",
       "     nationality ethnicity      gross_income     region smoke  amt_weekends  \\\n",
       "0        British     White    2,600 to 5,200  The North    No           NaN   \n",
       "1        British     White       Under 2,600  The North   Yes          12.0   \n",
       "2        English     White  28,600 to 36,400  The North    No           NaN   \n",
       "3        English     White  10,400 to 15,600  The North    No           NaN   \n",
       "4        British     White    2,600 to 5,200  The North    No           NaN   \n",
       "...          ...       ...               ...        ...   ...           ...   \n",
       "1686    Scottish     White    2,600 to 5,200   Scotland    No           NaN   \n",
       "1687     English     White    2,600 to 5,200   Scotland   Yes          20.0   \n",
       "1688    Scottish     White   5,200 to 10,400   Scotland    No           NaN   \n",
       "1689     English     White    2,600 to 5,200   Scotland   Yes          20.0   \n",
       "1690    Scottish     White  10,400 to 15,600   Scotland    No           NaN   \n",
       "\n",
       "      amt_weekdays         type  \n",
       "0              NaN          NaN  \n",
       "1             12.0      Packets  \n",
       "2              NaN          NaN  \n",
       "3              NaN          NaN  \n",
       "4              NaN          NaN  \n",
       "...            ...          ...  \n",
       "1686           NaN          NaN  \n",
       "1687          20.0  Hand-Rolled  \n",
       "1688           NaN          NaN  \n",
       "1689          20.0      Packets  \n",
       "1690           NaN          NaN  \n",
       "\n",
       "[1691 rows x 13 columns]"
      ]
     },
     "execution_count": 4,
     "metadata": {},
     "output_type": "execute_result"
    }
   ],
   "source": [
    "df"
   ]
  },
  {
   "cell_type": "code",
   "execution_count": 8,
   "id": "d9901750",
   "metadata": {},
   "outputs": [],
   "source": [
    "# EDA\n",
    "df=df.drop('Unnamed: 0',axis=1)"
   ]
  },
  {
   "cell_type": "code",
   "execution_count": 9,
   "id": "195c7dfa",
   "metadata": {},
   "outputs": [
    {
     "data": {
      "text/plain": [
       "gender                      0\n",
       "age                         0\n",
       "marital_status              0\n",
       "highest_qualification       0\n",
       "nationality                 0\n",
       "ethnicity                   0\n",
       "gross_income                0\n",
       "region                      0\n",
       "smoke                       0\n",
       "amt_weekends             1270\n",
       "amt_weekdays             1270\n",
       "type                     1270\n",
       "dtype: int64"
      ]
     },
     "execution_count": 9,
     "metadata": {},
     "output_type": "execute_result"
    }
   ],
   "source": [
    "df.isnull().sum()"
   ]
  },
  {
   "cell_type": "code",
   "execution_count": 10,
   "id": "2f6b156b",
   "metadata": {},
   "outputs": [
    {
     "data": {
      "text/plain": [
       "20.0    111\n",
       "10.0     69\n",
       "15.0     58\n",
       "5.0      32\n",
       "30.0     27\n",
       "25.0     24\n",
       "40.0     15\n",
       "12.0     13\n",
       "6.0      10\n",
       "7.0       8\n",
       "8.0       7\n",
       "2.0       7\n",
       "1.0       6\n",
       "0.0       6\n",
       "3.0       6\n",
       "35.0      5\n",
       "4.0       4\n",
       "18.0      4\n",
       "50.0      2\n",
       "16.0      2\n",
       "60.0      2\n",
       "24.0      1\n",
       "9.0       1\n",
       "45.0      1\n",
       "Name: amt_weekends, dtype: int64"
      ]
     },
     "execution_count": 10,
     "metadata": {},
     "output_type": "execute_result"
    }
   ],
   "source": [
    "df['amt_weekends'].value_counts()"
   ]
  },
  {
   "cell_type": "code",
   "execution_count": 11,
   "id": "6416335c",
   "metadata": {},
   "outputs": [
    {
     "data": {
      "text/plain": [
       "20.0    82\n",
       "10.0    80\n",
       "15.0    56\n",
       "5.0     28\n",
       "12.0    17\n",
       "30.0    17\n",
       "8.0     16\n",
       "25.0    16\n",
       "0.0     16\n",
       "6.0     14\n",
       "7.0     14\n",
       "2.0     13\n",
       "4.0     10\n",
       "40.0    10\n",
       "3.0      9\n",
       "1.0      8\n",
       "18.0     5\n",
       "35.0     3\n",
       "50.0     2\n",
       "9.0      1\n",
       "55.0     1\n",
       "16.0     1\n",
       "24.0     1\n",
       "45.0     1\n",
       "Name: amt_weekdays, dtype: int64"
      ]
     },
     "execution_count": 11,
     "metadata": {},
     "output_type": "execute_result"
    }
   ],
   "source": [
    "df['amt_weekdays'].value_counts()"
   ]
  },
  {
   "cell_type": "code",
   "execution_count": 13,
   "id": "9b086cb7",
   "metadata": {},
   "outputs": [
    {
     "data": {
      "text/plain": [
       "Packets                    297\n",
       "Hand-Rolled                 72\n",
       "Both/Mainly Packets         42\n",
       "Both/Mainly Hand-Rolled     10\n",
       "Name: type, dtype: int64"
      ]
     },
     "execution_count": 13,
     "metadata": {},
     "output_type": "execute_result"
    }
   ],
   "source": [
    "df['type'].value_counts()"
   ]
  },
  {
   "cell_type": "code",
   "execution_count": 14,
   "id": "8538c5c8",
   "metadata": {},
   "outputs": [
    {
     "data": {
      "text/plain": [
       "<AxesSubplot:xlabel='type', ylabel='count'>"
      ]
     },
     "execution_count": 14,
     "metadata": {},
     "output_type": "execute_result"
    },
    {
     "data": {
      "image/png": "[encoded data removed]",
      "text/plain": [
       "<Figure size 640x480 with 1 Axes>"
      ]
     },
     "metadata": {},
     "output_type": "display_data"
    }
   ],
   "source": [
    "sns.countplot(x=df['type'])"
   ]
  },
  {
   "cell_type": "code",
   "execution_count": 15,
   "id": "19dfa807",
   "metadata": {},
   "outputs": [
    {
     "data": {
      "text/plain": [
       "<AxesSubplot:xlabel='gender', ylabel='count'>"
      ]
     },
     "execution_count": 15,
     "metadata": {},
     "output_type": "execute_result"
    },
    {
     "data": {
      "image/png": "[encoded data removed]",
      "text/plain": [
       "<Figure size 640x480 with 1 Axes>"
      ]
     },
     "metadata": {},
     "output_type": "display_data"
    }
   ],
   "source": [
    "sns.countplot(x=df['gender'])"
   ]
  },
  {
   "cell_type": "code",
   "execution_count": 16,
   "id": "dbfa8e23",
   "metadata": {},
   "outputs": [
    {
     "data": {
      "text/plain": [
       "<AxesSubplot:xlabel='marital_status', ylabel='count'>"
      ]
     },
     "execution_count": 16,
     "metadata": {},
     "output_type": "execute_result"
    },
    {
     "data": {
      "image/png": "[encoded data removed]",
      "text/plain": [
       "<Figure size 640x480 with 1 Axes>"
      ]
     },
     "metadata": {},
     "output_type": "display_data"
    }
   ],
   "source": [
    "sns.countplot(x=df['marital_status'])"
   ]
  },
  {
   "cell_type": "code",
   "execution_count": 19,
   "id": "b22f6005",
   "metadata": {},
   "outputs": [
    {
     "data": {
      "text/plain": [
       "Married      812\n",
       "Single       427\n",
       "Widowed      223\n",
       "Divorced     161\n",
       "Separated     68\n",
       "Name: marital_status, dtype: int64"
      ]
     },
     "execution_count": 19,
     "metadata": {},
     "output_type": "execute_result"
    }
   ],
   "source": [
    "df['marital_status'].value_counts()"
   ]
  },
  {
   "cell_type": "code",
   "execution_count": 17,
   "id": "0c57ccd1",
   "metadata": {},
   "outputs": [
    {
     "data": {
      "text/plain": [
       "<AxesSubplot:xlabel='nationality', ylabel='count'>"
      ]
     },
     "execution_count": 17,
     "metadata": {},
     "output_type": "execute_result"
    },
    {
     "data": {
      "image/png": "[encoded data removed]",
      "text/plain": [
       "<Figure size 640x480 with 1 Axes>"
      ]
     },
     "metadata": {},
     "output_type": "display_data"
    }
   ],
   "source": [
    "sns.countplot(x=df['nationality'])"
   ]
  },
  {
   "cell_type": "code",
   "execution_count": 18,
   "id": "b684d42c",
   "metadata": {},
   "outputs": [
    {
     "data": {
      "text/plain": [
       "English     833\n",
       "British     538\n",
       "Scottish    142\n",
       "Other        71\n",
       "Welsh        66\n",
       "Irish        23\n",
       "Refused      17\n",
       "Unknown       1\n",
       "Name: nationality, dtype: int64"
      ]
     },
     "execution_count": 18,
     "metadata": {},
     "output_type": "execute_result"
    }
   ],
   "source": [
    "df['nationality'].value_counts()"
   ]
  },
  {
   "cell_type": "code",
   "execution_count": 20,
   "id": "95c3d6f6",
   "metadata": {},
   "outputs": [
    {
     "data": {
      "text/plain": [
       "No     1270\n",
       "Yes     421\n",
       "Name: smoke, dtype: int64"
      ]
     },
     "execution_count": 20,
     "metadata": {},
     "output_type": "execute_result"
    }
   ],
   "source": [
    "df['smoke'].value_counts()"
   ]
  },
  {
   "cell_type": "code",
   "execution_count": 21,
   "id": "d37d7d05",
   "metadata": {},
   "outputs": [
    {
     "data": {
      "text/plain": [
       "<AxesSubplot:xlabel='smoke', ylabel='count'>"
      ]
     },
     "execution_count": 21,
     "metadata": {},
     "output_type": "execute_result"
    },
    {
     "data": {
      "image/png": "[encoded data removed]",
      "text/plain": [
       "<Figure size 640x480 with 1 Axes>"
      ]
     },
     "metadata": {},
     "output_type": "display_data"
    }
   ],
   "source": [
    "sns.countplot(x=df['smoke'])"
   ]
  },
  {
   "cell_type": "code",
   "execution_count": 23,
   "id": "f867d8e1",
   "metadata": {},
   "outputs": [
    {
     "data": {
      "text/plain": [
       "5,200 to 10,400     396\n",
       "10,400 to 15,600    268\n",
       "2,600 to 5,200      257\n",
       "15,600 to 20,800    188\n",
       "20,800 to 28,600    155\n",
       "Under 2,600         133\n",
       "Refused             108\n",
       "Above 36,400         89\n",
       "28,600 to 36,400     79\n",
       "Unknown              18\n",
       "Name: gross_income, dtype: int64"
      ]
     },
     "execution_count": 23,
     "metadata": {},
     "output_type": "execute_result"
    }
   ],
   "source": [
    "df['gross_income'].value_counts()"
   ]
  },
  {
   "cell_type": "code",
   "execution_count": 24,
   "id": "ab859266",
   "metadata": {},
   "outputs": [],
   "source": [
    "df['amt_weekends'].fillna(20.0,inplace=True)\n",
    "df['amt_weekdays'].fillna(20.0,inplace=True)\n",
    "df['type'].fillna(\"Packets\",inplace=True)"
   ]
  },
  {
   "cell_type": "code",
   "execution_count": 25,
   "id": "391706fb",
   "metadata": {},
   "outputs": [
    {
     "data": {
      "text/html": [
       "<div>\n",
       "<style scoped>\n",
       "    .dataframe tbody tr th:only-of-type {\n",
       "        vertical-align: middle;\n",
       "    }\n",
       "\n",
       "    .dataframe tbody tr th {\n",
       "        vertical-align: top;\n",
       "    }\n",
       "\n",
       "    .dataframe thead th {\n",
       "        text-align: right;\n",
       "    }\n",
       "</style>\n",
       "<table border=\"1\" class=\"dataframe\">\n",
       "  <thead>\n",
       "    <tr style=\"text-align: right;\">\n",
       "      <th></th>\n",
       "      <th>gender</th>\n",
       "      <th>age</th>\n",
       "      <th>marital_status</th>\n",
       "      <th>highest_qualification</th>\n",
       "      <th>nationality</th>\n",
       "      <th>ethnicity</th>\n",
       "      <th>gross_income</th>\n",
       "      <th>region</th>\n",
       "      <th>smoke</th>\n",
       "      <th>amt_weekends</th>\n",
       "      <th>amt_weekdays</th>\n",
       "      <th>type</th>\n",
       "    </tr>\n",
       "  </thead>\n",
       "  <tbody>\n",
       "    <tr>\n",
       "      <th>0</th>\n",
       "      <td>Male</td>\n",
       "      <td>38</td>\n",
       "      <td>Divorced</td>\n",
       "      <td>No Qualification</td>\n",
       "      <td>British</td>\n",
       "      <td>White</td>\n",
       "      <td>2,600 to 5,200</td>\n",
       "      <td>The North</td>\n",
       "      <td>No</td>\n",
       "      <td>20.0</td>\n",
       "      <td>20.0</td>\n",
       "      <td>Packets</td>\n",
       "    </tr>\n",
       "    <tr>\n",
       "      <th>1</th>\n",
       "      <td>Female</td>\n",
       "      <td>42</td>\n",
       "      <td>Single</td>\n",
       "      <td>No Qualification</td>\n",
       "      <td>British</td>\n",
       "      <td>White</td>\n",
       "      <td>Under 2,600</td>\n",
       "      <td>The North</td>\n",
       "      <td>Yes</td>\n",
       "      <td>12.0</td>\n",
       "      <td>12.0</td>\n",
       "      <td>Packets</td>\n",
       "    </tr>\n",
       "    <tr>\n",
       "      <th>2</th>\n",
       "      <td>Male</td>\n",
       "      <td>40</td>\n",
       "      <td>Married</td>\n",
       "      <td>Degree</td>\n",
       "      <td>English</td>\n",
       "      <td>White</td>\n",
       "      <td>28,600 to 36,400</td>\n",
       "      <td>The North</td>\n",
       "      <td>No</td>\n",
       "      <td>20.0</td>\n",
       "      <td>20.0</td>\n",
       "      <td>Packets</td>\n",
       "    </tr>\n",
       "    <tr>\n",
       "      <th>3</th>\n",
       "      <td>Female</td>\n",
       "      <td>40</td>\n",
       "      <td>Married</td>\n",
       "      <td>Degree</td>\n",
       "      <td>English</td>\n",
       "      <td>White</td>\n",
       "      <td>10,400 to 15,600</td>\n",
       "      <td>The North</td>\n",
       "      <td>No</td>\n",
       "      <td>20.0</td>\n",
       "      <td>20.0</td>\n",
       "      <td>Packets</td>\n",
       "    </tr>\n",
       "    <tr>\n",
       "      <th>4</th>\n",
       "      <td>Female</td>\n",
       "      <td>39</td>\n",
       "      <td>Married</td>\n",
       "      <td>GCSE/O Level</td>\n",
       "      <td>British</td>\n",
       "      <td>White</td>\n",
       "      <td>2,600 to 5,200</td>\n",
       "      <td>The North</td>\n",
       "      <td>No</td>\n",
       "      <td>20.0</td>\n",
       "      <td>20.0</td>\n",
       "      <td>Packets</td>\n",
       "    </tr>\n",
       "    <tr>\n",
       "      <th>...</th>\n",
       "      <td>...</td>\n",
       "      <td>...</td>\n",
       "      <td>...</td>\n",
       "      <td>...</td>\n",
       "      <td>...</td>\n",
       "      <td>...</td>\n",
       "      <td>...</td>\n",
       "      <td>...</td>\n",
       "      <td>...</td>\n",
       "      <td>...</td>\n",
       "      <td>...</td>\n",
       "      <td>...</td>\n",
       "    </tr>\n",
       "    <tr>\n",
       "      <th>1686</th>\n",
       "      <td>Male</td>\n",
       "      <td>22</td>\n",
       "      <td>Single</td>\n",
       "      <td>No Qualification</td>\n",
       "      <td>Scottish</td>\n",
       "      <td>White</td>\n",
       "      <td>2,600 to 5,200</td>\n",
       "      <td>Scotland</td>\n",
       "      <td>No</td>\n",
       "      <td>20.0</td>\n",
       "      <td>20.0</td>\n",
       "      <td>Packets</td>\n",
       "    </tr>\n",
       "    <tr>\n",
       "      <th>1687</th>\n",
       "      <td>Female</td>\n",
       "      <td>49</td>\n",
       "      <td>Divorced</td>\n",
       "      <td>Other/Sub Degree</td>\n",
       "      <td>English</td>\n",
       "      <td>White</td>\n",
       "      <td>2,600 to 5,200</td>\n",
       "      <td>Scotland</td>\n",
       "      <td>Yes</td>\n",
       "      <td>20.0</td>\n",
       "      <td>20.0</td>\n",
       "      <td>Hand-Rolled</td>\n",
       "    </tr>\n",
       "    <tr>\n",
       "      <th>1688</th>\n",
       "      <td>Male</td>\n",
       "      <td>45</td>\n",
       "      <td>Married</td>\n",
       "      <td>Other/Sub Degree</td>\n",
       "      <td>Scottish</td>\n",
       "      <td>White</td>\n",
       "      <td>5,200 to 10,400</td>\n",
       "      <td>Scotland</td>\n",
       "      <td>No</td>\n",
       "      <td>20.0</td>\n",
       "      <td>20.0</td>\n",
       "      <td>Packets</td>\n",
       "    </tr>\n",
       "    <tr>\n",
       "      <th>1689</th>\n",
       "      <td>Female</td>\n",
       "      <td>51</td>\n",
       "      <td>Married</td>\n",
       "      <td>No Qualification</td>\n",
       "      <td>English</td>\n",
       "      <td>White</td>\n",
       "      <td>2,600 to 5,200</td>\n",
       "      <td>Scotland</td>\n",
       "      <td>Yes</td>\n",
       "      <td>20.0</td>\n",
       "      <td>20.0</td>\n",
       "      <td>Packets</td>\n",
       "    </tr>\n",
       "    <tr>\n",
       "      <th>1690</th>\n",
       "      <td>Male</td>\n",
       "      <td>31</td>\n",
       "      <td>Married</td>\n",
       "      <td>Degree</td>\n",
       "      <td>Scottish</td>\n",
       "      <td>White</td>\n",
       "      <td>10,400 to 15,600</td>\n",
       "      <td>Scotland</td>\n",
       "      <td>No</td>\n",
       "      <td>20.0</td>\n",
       "      <td>20.0</td>\n",
       "      <td>Packets</td>\n",
       "    </tr>\n",
       "  </tbody>\n",
       "</table>\n",
       "<p>1691 rows × 12 columns</p>\n",
       "</div>"
      ],
      "text/plain": [
       "      gender  age marital_status highest_qualification nationality ethnicity  \\\n",
       "0       Male   38       Divorced      No Qualification     British     White   \n",
       "1     Female   42         Single      No Qualification     British     White   \n",
       "2       Male   40        Married                Degree     English     White   \n",
       "3     Female   40        Married                Degree     English     White   \n",
       "4     Female   39        Married          GCSE/O Level     British     White   \n",
       "...      ...  ...            ...                   ...         ...       ...   \n",
       "1686    Male   22         Single      No Qualification    Scottish     White   \n",
       "1687  Female   49       Divorced      Other/Sub Degree     English     White   \n",
       "1688    Male   45        Married      Other/Sub Degree    Scottish     White   \n",
       "1689  Female   51        Married      No Qualification     English     White   \n",
       "1690    Male   31        Married                Degree    Scottish     White   \n",
       "\n",
       "          gross_income     region smoke  amt_weekends  amt_weekdays  \\\n",
       "0       2,600 to 5,200  The North    No          20.0          20.0   \n",
       "1          Under 2,600  The North   Yes          12.0          12.0   \n",
       "2     28,600 to 36,400  The North    No          20.0          20.0   \n",
       "3     10,400 to 15,600  The North    No          20.0          20.0   \n",
       "4       2,600 to 5,200  The North    No          20.0          20.0   \n",
       "...                ...        ...   ...           ...           ...   \n",
       "1686    2,600 to 5,200   Scotland    No          20.0          20.0   \n",
       "1687    2,600 to 5,200   Scotland   Yes          20.0          20.0   \n",
       "1688   5,200 to 10,400   Scotland    No          20.0          20.0   \n",
       "1689    2,600 to 5,200   Scotland   Yes          20.0          20.0   \n",
       "1690  10,400 to 15,600   Scotland    No          20.0          20.0   \n",
       "\n",
       "             type  \n",
       "0         Packets  \n",
       "1         Packets  \n",
       "2         Packets  \n",
       "3         Packets  \n",
       "4         Packets  \n",
       "...           ...  \n",
       "1686      Packets  \n",
       "1687  Hand-Rolled  \n",
       "1688      Packets  \n",
       "1689      Packets  \n",
       "1690      Packets  \n",
       "\n",
       "[1691 rows x 12 columns]"
      ]
     },
     "execution_count": 25,
     "metadata": {},
     "output_type": "execute_result"
    }
   ],
   "source": [
    "df"
   ]
  },
  {
   "cell_type": "code",
   "execution_count": 26,
   "id": "4943e47b",
   "metadata": {},
   "outputs": [
    {
     "data": {
      "text/plain": [
       "gender                   False\n",
       "age                      False\n",
       "marital_status           False\n",
       "highest_qualification    False\n",
       "nationality              False\n",
       "ethnicity                False\n",
       "gross_income             False\n",
       "region                   False\n",
       "smoke                    False\n",
       "amt_weekends             False\n",
       "amt_weekdays             False\n",
       "type                     False\n",
       "dtype: bool"
      ]
     },
     "execution_count": 26,
     "metadata": {},
     "output_type": "execute_result"
    }
   ],
   "source": [
    "df.isnull().any()"
   ]
  },
  {
   "cell_type": "code",
   "execution_count": 27,
   "id": "aa8c0f21",
   "metadata": {},
   "outputs": [
    {
     "name": "stdout",
     "output_type": "stream",
     "text": [
      "<class 'pandas.core.frame.DataFrame'>\n",
      "RangeIndex: 1691 entries, 0 to 1690\n",
      "Data columns (total 12 columns):\n",
      " #   Column                 Non-Null Count  Dtype  \n",
      "---  ------                 --------------  -----  \n",
      " 0   gender                 1691 non-null   object \n",
      " 1   age                    1691 non-null   int64  \n",
      " 2   marital_status         1691 non-null   object \n",
      " 3   highest_qualification  1691 non-null   object \n",
      " 4   nationality            1691 non-null   object \n",
      " 5   ethnicity              1691 non-null   object \n",
      " 6   gross_income           1691 non-null   object \n",
      " 7   region                 1691 non-null   object \n",
      " 8   smoke                  1691 non-null   object \n",
      " 9   amt_weekends           1691 non-null   float64\n",
      " 10  amt_weekdays           1691 non-null   float64\n",
      " 11  type                   1691 non-null   object \n",
      "dtypes: float64(2), int64(1), object(9)\n",
      "memory usage: 158.7+ KB\n"
     ]
    }
   ],
   "source": [
    "df.info()"
   ]
  },
  {
   "cell_type": "code",
   "execution_count": 28,
   "id": "b97d136b",
   "metadata": {},
   "outputs": [
    {
     "data": {
      "text/plain": [
       "Index(['gender', 'age', 'marital_status', 'highest_qualification',\n",
       "       'nationality', 'ethnicity', 'gross_income', 'region', 'smoke',\n",
       "       'amt_weekends', 'amt_weekdays', 'type'],\n",
       "      dtype='object')"
      ]
     },
     "execution_count": 28,
     "metadata": {},
     "output_type": "execute_result"
    }
   ],
   "source": [
    "df.columns"
   ]
  },
  {
   "cell_type": "code",
   "execution_count": 29,
   "id": "43a9adf6",
   "metadata": {},
   "outputs": [
    {
     "data": {
      "text/plain": [
       "(1691, 12)"
      ]
     },
     "execution_count": 29,
     "metadata": {},
     "output_type": "execute_result"
    }
   ],
   "source": [
    "df.shape"
   ]
  },
  {
   "cell_type": "code",
   "execution_count": 31,
   "id": "f96e6d8c",
   "metadata": {},
   "outputs": [],
   "source": [
    "from sklearn.preprocessing import OrdinalEncoder"
   ]
  },
  {
   "cell_type": "code",
   "execution_count": 32,
   "id": "823ec264",
   "metadata": {},
   "outputs": [],
   "source": [
    "en=OrdinalEncoder()"
   ]
  },
  {
   "cell_type": "code",
   "execution_count": 33,
   "id": "a9209268",
   "metadata": {},
   "outputs": [],
   "source": [
    "a=['gender']\n",
    "b=['marital_status']\n",
    "c=['highest_qualification']\n",
    "d=['nationality']\n",
    "e=['ethnicity']\n",
    "f=['gross_income']\n",
    "p=['region']\n",
    "q=['smoke']\n",
    "r=['type']\n",
    "df[a]=en.fit_transform(df[a])\n",
    "df[b]=en.fit_transform(df[b])\n",
    "df[c]=en.fit_transform(df[c])\n",
    "df[d]=en.fit_transform(df[d])\n",
    "df[e]=en.fit_transform(df[e])\n",
    "df[f]=en.fit_transform(df[f])\n",
    "df[p]=en.fit_transform(df[p])\n",
    "df[q]=en.fit_transform(df[q])\n",
    "df[r]=en.fit_transform(df[r])"
   ]
  },
  {
   "cell_type": "code",
   "execution_count": 35,
   "id": "6f2832a9",
   "metadata": {},
   "outputs": [],
   "source": [
    "df=df.astype({\"gender\":'int',\"marital_status\":'int',\"highest_qualification\":'int',\"nationality\":'int',\"ethnicity\":'int',\"gross_income\":'int',\"region\":'int',\"smoke\":'int',\"type\":'int',\"amt_weekends\":'int',\"amt_weekdays\":'int'})"
   ]
  },
  {
   "cell_type": "code",
   "execution_count": 36,
   "id": "25efa1a1",
   "metadata": {},
   "outputs": [
    {
     "data": {
      "text/html": [
       "<div>\n",
       "<style scoped>\n",
       "    .dataframe tbody tr th:only-of-type {\n",
       "        vertical-align: middle;\n",
       "    }\n",
       "\n",
       "    .dataframe tbody tr th {\n",
       "        vertical-align: top;\n",
       "    }\n",
       "\n",
       "    .dataframe thead th {\n",
       "        text-align: right;\n",
       "    }\n",
       "</style>\n",
       "<table border=\"1\" class=\"dataframe\">\n",
       "  <thead>\n",
       "    <tr style=\"text-align: right;\">\n",
       "      <th></th>\n",
       "      <th>gender</th>\n",
       "      <th>age</th>\n",
       "      <th>marital_status</th>\n",
       "      <th>highest_qualification</th>\n",
       "      <th>nationality</th>\n",
       "      <th>ethnicity</th>\n",
       "      <th>gross_income</th>\n",
       "      <th>region</th>\n",
       "      <th>smoke</th>\n",
       "      <th>amt_weekends</th>\n",
       "      <th>amt_weekdays</th>\n",
       "      <th>type</th>\n",
       "    </tr>\n",
       "  </thead>\n",
       "  <tbody>\n",
       "    <tr>\n",
       "      <th>0</th>\n",
       "      <td>1</td>\n",
       "      <td>38</td>\n",
       "      <td>0</td>\n",
       "      <td>5</td>\n",
       "      <td>0</td>\n",
       "      <td>6</td>\n",
       "      <td>2</td>\n",
       "      <td>5</td>\n",
       "      <td>0</td>\n",
       "      <td>20</td>\n",
       "      <td>20</td>\n",
       "      <td>3</td>\n",
       "    </tr>\n",
       "    <tr>\n",
       "      <th>1</th>\n",
       "      <td>0</td>\n",
       "      <td>42</td>\n",
       "      <td>3</td>\n",
       "      <td>5</td>\n",
       "      <td>0</td>\n",
       "      <td>6</td>\n",
       "      <td>8</td>\n",
       "      <td>5</td>\n",
       "      <td>1</td>\n",
       "      <td>12</td>\n",
       "      <td>12</td>\n",
       "      <td>3</td>\n",
       "    </tr>\n",
       "    <tr>\n",
       "      <th>2</th>\n",
       "      <td>1</td>\n",
       "      <td>40</td>\n",
       "      <td>1</td>\n",
       "      <td>1</td>\n",
       "      <td>1</td>\n",
       "      <td>6</td>\n",
       "      <td>4</td>\n",
       "      <td>5</td>\n",
       "      <td>0</td>\n",
       "      <td>20</td>\n",
       "      <td>20</td>\n",
       "      <td>3</td>\n",
       "    </tr>\n",
       "    <tr>\n",
       "      <th>3</th>\n",
       "      <td>0</td>\n",
       "      <td>40</td>\n",
       "      <td>1</td>\n",
       "      <td>1</td>\n",
       "      <td>1</td>\n",
       "      <td>6</td>\n",
       "      <td>0</td>\n",
       "      <td>5</td>\n",
       "      <td>0</td>\n",
       "      <td>20</td>\n",
       "      <td>20</td>\n",
       "      <td>3</td>\n",
       "    </tr>\n",
       "    <tr>\n",
       "      <th>4</th>\n",
       "      <td>0</td>\n",
       "      <td>39</td>\n",
       "      <td>1</td>\n",
       "      <td>3</td>\n",
       "      <td>0</td>\n",
       "      <td>6</td>\n",
       "      <td>2</td>\n",
       "      <td>5</td>\n",
       "      <td>0</td>\n",
       "      <td>20</td>\n",
       "      <td>20</td>\n",
       "      <td>3</td>\n",
       "    </tr>\n",
       "    <tr>\n",
       "      <th>...</th>\n",
       "      <td>...</td>\n",
       "      <td>...</td>\n",
       "      <td>...</td>\n",
       "      <td>...</td>\n",
       "      <td>...</td>\n",
       "      <td>...</td>\n",
       "      <td>...</td>\n",
       "      <td>...</td>\n",
       "      <td>...</td>\n",
       "      <td>...</td>\n",
       "      <td>...</td>\n",
       "      <td>...</td>\n",
       "    </tr>\n",
       "    <tr>\n",
       "      <th>1686</th>\n",
       "      <td>1</td>\n",
       "      <td>22</td>\n",
       "      <td>3</td>\n",
       "      <td>5</td>\n",
       "      <td>5</td>\n",
       "      <td>6</td>\n",
       "      <td>2</td>\n",
       "      <td>2</td>\n",
       "      <td>0</td>\n",
       "      <td>20</td>\n",
       "      <td>20</td>\n",
       "      <td>3</td>\n",
       "    </tr>\n",
       "    <tr>\n",
       "      <th>1687</th>\n",
       "      <td>0</td>\n",
       "      <td>49</td>\n",
       "      <td>0</td>\n",
       "      <td>7</td>\n",
       "      <td>1</td>\n",
       "      <td>6</td>\n",
       "      <td>2</td>\n",
       "      <td>2</td>\n",
       "      <td>1</td>\n",
       "      <td>20</td>\n",
       "      <td>20</td>\n",
       "      <td>2</td>\n",
       "    </tr>\n",
       "    <tr>\n",
       "      <th>1688</th>\n",
       "      <td>1</td>\n",
       "      <td>45</td>\n",
       "      <td>1</td>\n",
       "      <td>7</td>\n",
       "      <td>5</td>\n",
       "      <td>6</td>\n",
       "      <td>5</td>\n",
       "      <td>2</td>\n",
       "      <td>0</td>\n",
       "      <td>20</td>\n",
       "      <td>20</td>\n",
       "      <td>3</td>\n",
       "    </tr>\n",
       "    <tr>\n",
       "      <th>1689</th>\n",
       "      <td>0</td>\n",
       "      <td>51</td>\n",
       "      <td>1</td>\n",
       "      <td>5</td>\n",
       "      <td>1</td>\n",
       "      <td>6</td>\n",
       "      <td>2</td>\n",
       "      <td>2</td>\n",
       "      <td>1</td>\n",
       "      <td>20</td>\n",
       "      <td>20</td>\n",
       "      <td>3</td>\n",
       "    </tr>\n",
       "    <tr>\n",
       "      <th>1690</th>\n",
       "      <td>1</td>\n",
       "      <td>31</td>\n",
       "      <td>1</td>\n",
       "      <td>1</td>\n",
       "      <td>5</td>\n",
       "      <td>6</td>\n",
       "      <td>0</td>\n",
       "      <td>2</td>\n",
       "      <td>0</td>\n",
       "      <td>20</td>\n",
       "      <td>20</td>\n",
       "      <td>3</td>\n",
       "    </tr>\n",
       "  </tbody>\n",
       "</table>\n",
       "<p>1691 rows × 12 columns</p>\n",
       "</div>"
      ],
      "text/plain": [
       "      gender  age  marital_status  highest_qualification  nationality  \\\n",
       "0          1   38               0                      5            0   \n",
       "1          0   42               3                      5            0   \n",
       "2          1   40               1                      1            1   \n",
       "3          0   40               1                      1            1   \n",
       "4          0   39               1                      3            0   \n",
       "...      ...  ...             ...                    ...          ...   \n",
       "1686       1   22               3                      5            5   \n",
       "1687       0   49               0                      7            1   \n",
       "1688       1   45               1                      7            5   \n",
       "1689       0   51               1                      5            1   \n",
       "1690       1   31               1                      1            5   \n",
       "\n",
       "      ethnicity  gross_income  region  smoke  amt_weekends  amt_weekdays  type  \n",
       "0             6             2       5      0            20            20     3  \n",
       "1             6             8       5      1            12            12     3  \n",
       "2             6             4       5      0            20            20     3  \n",
       "3             6             0       5      0            20            20     3  \n",
       "4             6             2       5      0            20            20     3  \n",
       "...         ...           ...     ...    ...           ...           ...   ...  \n",
       "1686          6             2       2      0            20            20     3  \n",
       "1687          6             2       2      1            20            20     2  \n",
       "1688          6             5       2      0            20            20     3  \n",
       "1689          6             2       2      1            20            20     3  \n",
       "1690          6             0       2      0            20            20     3  \n",
       "\n",
       "[1691 rows x 12 columns]"
      ]
     },
     "execution_count": 36,
     "metadata": {},
     "output_type": "execute_result"
    }
   ],
   "source": [
    "df"
   ]
  },
  {
   "cell_type": "code",
   "execution_count": 38,
   "id": "99bab7ed",
   "metadata": {},
   "outputs": [
    {
     "data": {
      "text/html": [
       "<style type=\"text/css\">\n",
       "#T_0a9ab_row0_col0, #T_0a9ab_row1_col1, #T_0a9ab_row2_col2, #T_0a9ab_row3_col3, #T_0a9ab_row4_col4, #T_0a9ab_row5_col5, #T_0a9ab_row6_col6, #T_0a9ab_row7_col7, #T_0a9ab_row8_col8, #T_0a9ab_row9_col9, #T_0a9ab_row10_col10, #T_0a9ab_row11_col11 {\n",
       "  background-color: #3f007d;\n",
       "  color: #f1f1f1;\n",
       "}\n",
       "#T_0a9ab_row0_col1, #T_0a9ab_row1_col5 {\n",
       "  background-color: #eae9f3;\n",
       "  color: #000000;\n",
       "}\n",
       "#T_0a9ab_row0_col2, #T_0a9ab_row0_col6, #T_0a9ab_row0_col7, #T_0a9ab_row6_col5, #T_0a9ab_row8_col1, #T_0a9ab_row8_col9, #T_0a9ab_row8_col10, #T_0a9ab_row8_col11, #T_0a9ab_row10_col8, #T_0a9ab_row11_col0, #T_0a9ab_row11_col3, #T_0a9ab_row11_col4, #T_0a9ab_row11_col7 {\n",
       "  background-color: #fcfbfd;\n",
       "  color: #000000;\n",
       "}\n",
       "#T_0a9ab_row0_col3, #T_0a9ab_row0_col5, #T_0a9ab_row5_col6, #T_0a9ab_row6_col0, #T_0a9ab_row9_col2 {\n",
       "  background-color: #faf9fc;\n",
       "  color: #000000;\n",
       "}\n",
       "#T_0a9ab_row0_col4, #T_0a9ab_row1_col2, #T_0a9ab_row3_col2, #T_0a9ab_row8_col0, #T_0a9ab_row8_col2, #T_0a9ab_row11_col6 {\n",
       "  background-color: #f3f1f7;\n",
       "  color: #000000;\n",
       "}\n",
       "#T_0a9ab_row0_col8, #T_0a9ab_row3_col10, #T_0a9ab_row5_col8 {\n",
       "  background-color: #c3c4e0;\n",
       "  color: #000000;\n",
       "}\n",
       "#T_0a9ab_row0_col9, #T_0a9ab_row3_col11, #T_0a9ab_row11_col1 {\n",
       "  background-color: #d1d2e7;\n",
       "  color: #000000;\n",
       "}\n",
       "#T_0a9ab_row0_col10 {\n",
       "  background-color: #b9b9da;\n",
       "  color: #000000;\n",
       "}\n",
       "#T_0a9ab_row0_col11, #T_0a9ab_row4_col9, #T_0a9ab_row9_col1 {\n",
       "  background-color: #dadaeb;\n",
       "  color: #000000;\n",
       "}\n",
       "#T_0a9ab_row1_col0, #T_0a9ab_row10_col3 {\n",
       "  background-color: #f8f6fa;\n",
       "  color: #000000;\n",
       "}\n",
       "#T_0a9ab_row1_col3, #T_0a9ab_row7_col10 {\n",
       "  background-color: #bebedd;\n",
       "  color: #000000;\n",
       "}\n",
       "#T_0a9ab_row1_col4, #T_0a9ab_row11_col5 {\n",
       "  background-color: #faf8fb;\n",
       "  color: #000000;\n",
       "}\n",
       "#T_0a9ab_row1_col6, #T_0a9ab_row4_col0, #T_0a9ab_row10_col0 {\n",
       "  background-color: #ebe9f3;\n",
       "  color: #000000;\n",
       "}\n",
       "#T_0a9ab_row1_col7, #T_0a9ab_row9_col4, #T_0a9ab_row11_col8 {\n",
       "  background-color: #f8f7fb;\n",
       "  color: #000000;\n",
       "}\n",
       "#T_0a9ab_row1_col8 {\n",
       "  background-color: #e5e4f0;\n",
       "  color: #000000;\n",
       "}\n",
       "#T_0a9ab_row1_col9, #T_0a9ab_row5_col11 {\n",
       "  background-color: #cecfe5;\n",
       "  color: #000000;\n",
       "}\n",
       "#T_0a9ab_row1_col10 {\n",
       "  background-color: #a9a7cf;\n",
       "  color: #f1f1f1;\n",
       "}\n",
       "#T_0a9ab_row1_col11 {\n",
       "  background-color: #b7b7d9;\n",
       "  color: #000000;\n",
       "}\n",
       "#T_0a9ab_row2_col0, #T_0a9ab_row6_col4, #T_0a9ab_row7_col2, #T_0a9ab_row8_col7 {\n",
       "  background-color: #f9f8fb;\n",
       "  color: #000000;\n",
       "}\n",
       "#T_0a9ab_row2_col1, #T_0a9ab_row6_col9 {\n",
       "  background-color: #dfdfed;\n",
       "  color: #000000;\n",
       "}\n",
       "#T_0a9ab_row2_col3, #T_0a9ab_row5_col3, #T_0a9ab_row7_col4, #T_0a9ab_row9_col7 {\n",
       "  background-color: #f4f3f8;\n",
       "  color: #000000;\n",
       "}\n",
       "#T_0a9ab_row2_col4, #T_0a9ab_row3_col0, #T_0a9ab_row4_col3, #T_0a9ab_row6_col2 {\n",
       "  background-color: #f5f4f9;\n",
       "  color: #000000;\n",
       "}\n",
       "#T_0a9ab_row2_col5, #T_0a9ab_row7_col6, #T_0a9ab_row8_col4, #T_0a9ab_row9_col6, #T_0a9ab_row10_col4, #T_0a9ab_row10_col6 {\n",
       "  background-color: #f8f7fa;\n",
       "  color: #000000;\n",
       "}\n",
       "#T_0a9ab_row2_col6, #T_0a9ab_row4_col6, #T_0a9ab_row9_col5 {\n",
       "  background-color: #f5f3f8;\n",
       "  color: #000000;\n",
       "}\n",
       "#T_0a9ab_row2_col7, #T_0a9ab_row6_col7, #T_0a9ab_row8_col6, #T_0a9ab_row10_col2, #T_0a9ab_row11_col2 {\n",
       "  background-color: #fbfafc;\n",
       "  color: #000000;\n",
       "}\n",
       "#T_0a9ab_row2_col8 {\n",
       "  background-color: #bebfdd;\n",
       "  color: #000000;\n",
       "}\n",
       "#T_0a9ab_row2_col9 {\n",
       "  background-color: #e0e0ee;\n",
       "  color: #000000;\n",
       "}\n",
       "#T_0a9ab_row2_col10, #T_0a9ab_row6_col8 {\n",
       "  background-color: #cdcde4;\n",
       "  color: #000000;\n",
       "}\n",
       "#T_0a9ab_row2_col11 {\n",
       "  background-color: #d2d2e7;\n",
       "  color: #000000;\n",
       "}\n",
       "#T_0a9ab_row3_col1 {\n",
       "  background-color: #a6a3cd;\n",
       "  color: #f1f1f1;\n",
       "}\n",
       "#T_0a9ab_row3_col4, #T_0a9ab_row5_col2, #T_0a9ab_row7_col0 {\n",
       "  background-color: #f7f6fa;\n",
       "  color: #000000;\n",
       "}\n",
       "#T_0a9ab_row3_col5, #T_0a9ab_row3_col6, #T_0a9ab_row3_col7, #T_0a9ab_row7_col3 {\n",
       "  background-color: #f3f2f8;\n",
       "  color: #000000;\n",
       "}\n",
       "#T_0a9ab_row3_col8, #T_0a9ab_row4_col8, #T_0a9ab_row4_col10 {\n",
       "  background-color: #c1c2df;\n",
       "  color: #000000;\n",
       "}\n",
       "#T_0a9ab_row3_col9 {\n",
       "  background-color: #d9d9ea;\n",
       "  color: #000000;\n",
       "}\n",
       "#T_0a9ab_row4_col1, #T_0a9ab_row5_col7, #T_0a9ab_row7_col1 {\n",
       "  background-color: #e4e3f0;\n",
       "  color: #000000;\n",
       "}\n",
       "#T_0a9ab_row4_col2, #T_0a9ab_row4_col7 {\n",
       "  background-color: #f2f0f7;\n",
       "  color: #000000;\n",
       "}\n",
       "#T_0a9ab_row4_col5, #T_0a9ab_row9_col3 {\n",
       "  background-color: #f6f4f9;\n",
       "  color: #000000;\n",
       "}\n",
       "#T_0a9ab_row4_col11 {\n",
       "  background-color: #cecee5;\n",
       "  color: #000000;\n",
       "}\n",
       "#T_0a9ab_row5_col0, #T_0a9ab_row8_col5, #T_0a9ab_row10_col5 {\n",
       "  background-color: #f7f5fa;\n",
       "  color: #000000;\n",
       "}\n",
       "#T_0a9ab_row5_col1 {\n",
       "  background-color: #d3d3e8;\n",
       "  color: #000000;\n",
       "}\n",
       "#T_0a9ab_row5_col4 {\n",
       "  background-color: #f9f7fb;\n",
       "  color: #000000;\n",
       "}\n",
       "#T_0a9ab_row5_col9, #T_0a9ab_row6_col1 {\n",
       "  background-color: #d8d8ea;\n",
       "  color: #000000;\n",
       "}\n",
       "#T_0a9ab_row5_col10 {\n",
       "  background-color: #c4c5e0;\n",
       "  color: #000000;\n",
       "}\n",
       "#T_0a9ab_row6_col3, #T_0a9ab_row8_col3 {\n",
       "  background-color: #f6f5f9;\n",
       "  color: #000000;\n",
       "}\n",
       "#T_0a9ab_row6_col10 {\n",
       "  background-color: #c9c9e2;\n",
       "  color: #000000;\n",
       "}\n",
       "#T_0a9ab_row6_col11, #T_0a9ab_row7_col8 {\n",
       "  background-color: #c6c7e1;\n",
       "  color: #000000;\n",
       "}\n",
       "#T_0a9ab_row7_col5 {\n",
       "  background-color: #e2e2ef;\n",
       "  color: #000000;\n",
       "}\n",
       "#T_0a9ab_row7_col9 {\n",
       "  background-color: #d6d6e9;\n",
       "  color: #000000;\n",
       "}\n",
       "#T_0a9ab_row7_col11 {\n",
       "  background-color: #d0d1e6;\n",
       "  color: #000000;\n",
       "}\n",
       "#T_0a9ab_row9_col0 {\n",
       "  background-color: #ecebf4;\n",
       "  color: #000000;\n",
       "}\n",
       "#T_0a9ab_row9_col8 {\n",
       "  background-color: #eeecf4;\n",
       "  color: #000000;\n",
       "}\n",
       "#T_0a9ab_row9_col10 {\n",
       "  background-color: #53268f;\n",
       "  color: #f1f1f1;\n",
       "}\n",
       "#T_0a9ab_row9_col11 {\n",
       "  background-color: #c5c6e1;\n",
       "  color: #000000;\n",
       "}\n",
       "#T_0a9ab_row10_col1 {\n",
       "  background-color: #c7c8e1;\n",
       "  color: #000000;\n",
       "}\n",
       "#T_0a9ab_row10_col7 {\n",
       "  background-color: #f4f2f8;\n",
       "  color: #000000;\n",
       "}\n",
       "#T_0a9ab_row10_col9 {\n",
       "  background-color: #572c92;\n",
       "  color: #f1f1f1;\n",
       "}\n",
       "#T_0a9ab_row10_col11 {\n",
       "  background-color: #b6b6d8;\n",
       "  color: #000000;\n",
       "}\n",
       "#T_0a9ab_row11_col9 {\n",
       "  background-color: #d7d7e9;\n",
       "  color: #000000;\n",
       "}\n",
       "#T_0a9ab_row11_col10 {\n",
       "  background-color: #b0afd4;\n",
       "  color: #000000;\n",
       "}\n",
       "</style>\n",
       "<table id=\"T_0a9ab\">\n",
       "  <thead>\n",
       "    <tr>\n",
       "      <th class=\"blank level0\" >&nbsp;</th>\n",
       "      <th id=\"T_0a9ab_level0_col0\" class=\"col_heading level0 col0\" >gender</th>\n",
       "      <th id=\"T_0a9ab_level0_col1\" class=\"col_heading level0 col1\" >age</th>\n",
       "      <th id=\"T_0a9ab_level0_col2\" class=\"col_heading level0 col2\" >marital_status</th>\n",
       "      <th id=\"T_0a9ab_level0_col3\" class=\"col_heading level0 col3\" >highest_qualification</th>\n",
       "      <th id=\"T_0a9ab_level0_col4\" class=\"col_heading level0 col4\" >nationality</th>\n",
       "      <th id=\"T_0a9ab_level0_col5\" class=\"col_heading level0 col5\" >ethnicity</th>\n",
       "      <th id=\"T_0a9ab_level0_col6\" class=\"col_heading level0 col6\" >gross_income</th>\n",
       "      <th id=\"T_0a9ab_level0_col7\" class=\"col_heading level0 col7\" >region</th>\n",
       "      <th id=\"T_0a9ab_level0_col8\" class=\"col_heading level0 col8\" >smoke</th>\n",
       "      <th id=\"T_0a9ab_level0_col9\" class=\"col_heading level0 col9\" >amt_weekends</th>\n",
       "      <th id=\"T_0a9ab_level0_col10\" class=\"col_heading level0 col10\" >amt_weekdays</th>\n",
       "      <th id=\"T_0a9ab_level0_col11\" class=\"col_heading level0 col11\" >type</th>\n",
       "    </tr>\n",
       "  </thead>\n",
       "  <tbody>\n",
       "    <tr>\n",
       "      <th id=\"T_0a9ab_level0_row0\" class=\"row_heading level0 row0\" >gender</th>\n",
       "      <td id=\"T_0a9ab_row0_col0\" class=\"data row0 col0\" >1.000000</td>\n",
       "      <td id=\"T_0a9ab_row0_col1\" class=\"data row0 col1\" >-0.031513</td>\n",
       "      <td id=\"T_0a9ab_row0_col2\" class=\"data row0 col2\" >-0.048800</td>\n",
       "      <td id=\"T_0a9ab_row0_col3\" class=\"data row0 col3\" >-0.007168</td>\n",
       "      <td id=\"T_0a9ab_row0_col4\" class=\"data row0 col4\" >0.079535</td>\n",
       "      <td id=\"T_0a9ab_row0_col5\" class=\"data row0 col5\" >-0.022548</td>\n",
       "      <td id=\"T_0a9ab_row0_col6\" class=\"data row0 col6\" >-0.057810</td>\n",
       "      <td id=\"T_0a9ab_row0_col7\" class=\"data row0 col7\" >-0.028771</td>\n",
       "      <td id=\"T_0a9ab_row0_col8\" class=\"data row0 col8\" >0.017272</td>\n",
       "      <td id=\"T_0a9ab_row0_col9\" class=\"data row0 col9\" >0.070895</td>\n",
       "      <td id=\"T_0a9ab_row0_col10\" class=\"data row0 col10\" >0.080391</td>\n",
       "      <td id=\"T_0a9ab_row0_col11\" class=\"data row0 col11\" >-0.081383</td>\n",
       "    </tr>\n",
       "    <tr>\n",
       "      <th id=\"T_0a9ab_level0_row1\" class=\"row_heading level0 row1\" >age</th>\n",
       "      <td id=\"T_0a9ab_row1_col0\" class=\"data row1 col0\" >-0.031513</td>\n",
       "      <td id=\"T_0a9ab_row1_col1\" class=\"data row1 col1\" >1.000000</td>\n",
       "      <td id=\"T_0a9ab_row1_col2\" class=\"data row1 col2\" >0.048218</td>\n",
       "      <td id=\"T_0a9ab_row1_col3\" class=\"data row1 col3\" >0.351039</td>\n",
       "      <td id=\"T_0a9ab_row1_col4\" class=\"data row1 col4\" >0.016342</td>\n",
       "      <td id=\"T_0a9ab_row1_col5\" class=\"data row1 col5\" >0.120442</td>\n",
       "      <td id=\"T_0a9ab_row1_col6\" class=\"data row1 col6\" >0.099556</td>\n",
       "      <td id=\"T_0a9ab_row1_col7\" class=\"data row1 col7\" >0.010821</td>\n",
       "      <td id=\"T_0a9ab_row1_col8\" class=\"data row1 col8\" >-0.218890</td>\n",
       "      <td id=\"T_0a9ab_row1_col9\" class=\"data row1 col9\" >0.089801</td>\n",
       "      <td id=\"T_0a9ab_row1_col10\" class=\"data row1 col10\" >0.181339</td>\n",
       "      <td id=\"T_0a9ab_row1_col11\" class=\"data row1 col11\" >0.129763</td>\n",
       "    </tr>\n",
       "    <tr>\n",
       "      <th id=\"T_0a9ab_level0_row2\" class=\"row_heading level0 row2\" >marital_status</th>\n",
       "      <td id=\"T_0a9ab_row2_col0\" class=\"data row2 col0\" >-0.048800</td>\n",
       "      <td id=\"T_0a9ab_row2_col1\" class=\"data row2 col1\" >0.048218</td>\n",
       "      <td id=\"T_0a9ab_row2_col2\" class=\"data row2 col2\" >1.000000</td>\n",
       "      <td id=\"T_0a9ab_row2_col3\" class=\"data row2 col3\" >0.049182</td>\n",
       "      <td id=\"T_0a9ab_row2_col4\" class=\"data row2 col4\" >0.053195</td>\n",
       "      <td id=\"T_0a9ab_row2_col5\" class=\"data row2 col5\" >0.002313</td>\n",
       "      <td id=\"T_0a9ab_row2_col6\" class=\"data row2 col6\" >0.017394</td>\n",
       "      <td id=\"T_0a9ab_row2_col7\" class=\"data row2 col7\" >-0.018038</td>\n",
       "      <td id=\"T_0a9ab_row2_col8\" class=\"data row2 col8\" >0.047296</td>\n",
       "      <td id=\"T_0a9ab_row2_col9\" class=\"data row2 col9\" >-0.025030</td>\n",
       "      <td id=\"T_0a9ab_row2_col10\" class=\"data row2 col10\" >-0.040286</td>\n",
       "      <td id=\"T_0a9ab_row2_col11\" class=\"data row2 col11\" >-0.036637</td>\n",
       "    </tr>\n",
       "    <tr>\n",
       "      <th id=\"T_0a9ab_level0_row3\" class=\"row_heading level0 row3\" >highest_qualification</th>\n",
       "      <td id=\"T_0a9ab_row3_col0\" class=\"data row3 col0\" >-0.007168</td>\n",
       "      <td id=\"T_0a9ab_row3_col1\" class=\"data row3 col1\" >0.351039</td>\n",
       "      <td id=\"T_0a9ab_row3_col2\" class=\"data row3 col2\" >0.049182</td>\n",
       "      <td id=\"T_0a9ab_row3_col3\" class=\"data row3 col3\" >1.000000</td>\n",
       "      <td id=\"T_0a9ab_row3_col4\" class=\"data row3 col4\" >0.037375</td>\n",
       "      <td id=\"T_0a9ab_row3_col5\" class=\"data row3 col5\" >0.048296</td>\n",
       "      <td id=\"T_0a9ab_row3_col6\" class=\"data row3 col6\" >0.029372</td>\n",
       "      <td id=\"T_0a9ab_row3_col7\" class=\"data row3 col7\" >0.057761</td>\n",
       "      <td id=\"T_0a9ab_row3_col8\" class=\"data row3 col8\" >0.029914</td>\n",
       "      <td id=\"T_0a9ab_row3_col9\" class=\"data row3 col9\" >0.034741</td>\n",
       "      <td id=\"T_0a9ab_row3_col10\" class=\"data row3 col10\" >0.017708</td>\n",
       "      <td id=\"T_0a9ab_row3_col11\" class=\"data row3 col11\" >-0.028660</td>\n",
       "    </tr>\n",
       "    <tr>\n",
       "      <th id=\"T_0a9ab_level0_row4\" class=\"row_heading level0 row4\" >nationality</th>\n",
       "      <td id=\"T_0a9ab_row4_col0\" class=\"data row4 col0\" >0.079535</td>\n",
       "      <td id=\"T_0a9ab_row4_col1\" class=\"data row4 col1\" >0.016342</td>\n",
       "      <td id=\"T_0a9ab_row4_col2\" class=\"data row4 col2\" >0.053195</td>\n",
       "      <td id=\"T_0a9ab_row4_col3\" class=\"data row4 col3\" >0.037375</td>\n",
       "      <td id=\"T_0a9ab_row4_col4\" class=\"data row4 col4\" >1.000000</td>\n",
       "      <td id=\"T_0a9ab_row4_col5\" class=\"data row4 col5\" >0.023983</td>\n",
       "      <td id=\"T_0a9ab_row4_col6\" class=\"data row4 col6\" >0.019893</td>\n",
       "      <td id=\"T_0a9ab_row4_col7\" class=\"data row4 col7\" >0.067988</td>\n",
       "      <td id=\"T_0a9ab_row4_col8\" class=\"data row4 col8\" >0.029721</td>\n",
       "      <td id=\"T_0a9ab_row4_col9\" class=\"data row4 col9\" >0.027990</td>\n",
       "      <td id=\"T_0a9ab_row4_col10\" class=\"data row4 col10\" >0.029436</td>\n",
       "      <td id=\"T_0a9ab_row4_col11\" class=\"data row4 col11\" >-0.010677</td>\n",
       "    </tr>\n",
       "    <tr>\n",
       "      <th id=\"T_0a9ab_level0_row5\" class=\"row_heading level0 row5\" >ethnicity</th>\n",
       "      <td id=\"T_0a9ab_row5_col0\" class=\"data row5 col0\" >-0.022548</td>\n",
       "      <td id=\"T_0a9ab_row5_col1\" class=\"data row5 col1\" >0.120442</td>\n",
       "      <td id=\"T_0a9ab_row5_col2\" class=\"data row5 col2\" >0.002313</td>\n",
       "      <td id=\"T_0a9ab_row5_col3\" class=\"data row5 col3\" >0.048296</td>\n",
       "      <td id=\"T_0a9ab_row5_col4\" class=\"data row5 col4\" >0.023983</td>\n",
       "      <td id=\"T_0a9ab_row5_col5\" class=\"data row5 col5\" >1.000000</td>\n",
       "      <td id=\"T_0a9ab_row5_col6\" class=\"data row5 col6\" >-0.039741</td>\n",
       "      <td id=\"T_0a9ab_row5_col7\" class=\"data row5 col7\" >0.168523</td>\n",
       "      <td id=\"T_0a9ab_row5_col8\" class=\"data row5 col8\" >0.017100</td>\n",
       "      <td id=\"T_0a9ab_row5_col9\" class=\"data row5 col9\" >0.036222</td>\n",
       "      <td id=\"T_0a9ab_row5_col10\" class=\"data row5 col10\" >0.014887</td>\n",
       "      <td id=\"T_0a9ab_row5_col11\" class=\"data row5 col11\" >-0.012334</td>\n",
       "    </tr>\n",
       "    <tr>\n",
       "      <th id=\"T_0a9ab_level0_row6\" class=\"row_heading level0 row6\" >gross_income</th>\n",
       "      <td id=\"T_0a9ab_row6_col0\" class=\"data row6 col0\" >-0.057810</td>\n",
       "      <td id=\"T_0a9ab_row6_col1\" class=\"data row6 col1\" >0.099556</td>\n",
       "      <td id=\"T_0a9ab_row6_col2\" class=\"data row6 col2\" >0.017394</td>\n",
       "      <td id=\"T_0a9ab_row6_col3\" class=\"data row6 col3\" >0.029372</td>\n",
       "      <td id=\"T_0a9ab_row6_col4\" class=\"data row6 col4\" >0.019893</td>\n",
       "      <td id=\"T_0a9ab_row6_col5\" class=\"data row6 col5\" >-0.039741</td>\n",
       "      <td id=\"T_0a9ab_row6_col6\" class=\"data row6 col6\" >1.000000</td>\n",
       "      <td id=\"T_0a9ab_row6_col7\" class=\"data row6 col7\" >-0.015000</td>\n",
       "      <td id=\"T_0a9ab_row6_col8\" class=\"data row6 col8\" >-0.041934</td>\n",
       "      <td id=\"T_0a9ab_row6_col9\" class=\"data row6 col9\" >-0.012612</td>\n",
       "      <td id=\"T_0a9ab_row6_col10\" class=\"data row6 col10\" >-0.015437</td>\n",
       "      <td id=\"T_0a9ab_row6_col11\" class=\"data row6 col11\" >0.035419</td>\n",
       "    </tr>\n",
       "    <tr>\n",
       "      <th id=\"T_0a9ab_level0_row7\" class=\"row_heading level0 row7\" >region</th>\n",
       "      <td id=\"T_0a9ab_row7_col0\" class=\"data row7 col0\" >-0.028771</td>\n",
       "      <td id=\"T_0a9ab_row7_col1\" class=\"data row7 col1\" >0.010821</td>\n",
       "      <td id=\"T_0a9ab_row7_col2\" class=\"data row7 col2\" >-0.018038</td>\n",
       "      <td id=\"T_0a9ab_row7_col3\" class=\"data row7 col3\" >0.057761</td>\n",
       "      <td id=\"T_0a9ab_row7_col4\" class=\"data row7 col4\" >0.067988</td>\n",
       "      <td id=\"T_0a9ab_row7_col5\" class=\"data row7 col5\" >0.168523</td>\n",
       "      <td id=\"T_0a9ab_row7_col6\" class=\"data row7 col6\" >-0.015000</td>\n",
       "      <td id=\"T_0a9ab_row7_col7\" class=\"data row7 col7\" >1.000000</td>\n",
       "      <td id=\"T_0a9ab_row7_col8\" class=\"data row7 col8\" >-0.000600</td>\n",
       "      <td id=\"T_0a9ab_row7_col9\" class=\"data row7 col9\" >0.047646</td>\n",
       "      <td id=\"T_0a9ab_row7_col10\" class=\"data row7 col10\" >0.052823</td>\n",
       "      <td id=\"T_0a9ab_row7_col11\" class=\"data row7 col11\" >-0.027220</td>\n",
       "    </tr>\n",
       "    <tr>\n",
       "      <th id=\"T_0a9ab_level0_row8\" class=\"row_heading level0 row8\" >smoke</th>\n",
       "      <td id=\"T_0a9ab_row8_col0\" class=\"data row8 col0\" >0.017272</td>\n",
       "      <td id=\"T_0a9ab_row8_col1\" class=\"data row8 col1\" >-0.218890</td>\n",
       "      <td id=\"T_0a9ab_row8_col2\" class=\"data row8 col2\" >0.047296</td>\n",
       "      <td id=\"T_0a9ab_row8_col3\" class=\"data row8 col3\" >0.029914</td>\n",
       "      <td id=\"T_0a9ab_row8_col4\" class=\"data row8 col4\" >0.029721</td>\n",
       "      <td id=\"T_0a9ab_row8_col5\" class=\"data row8 col5\" >0.017100</td>\n",
       "      <td id=\"T_0a9ab_row8_col6\" class=\"data row8 col6\" >-0.041934</td>\n",
       "      <td id=\"T_0a9ab_row8_col7\" class=\"data row8 col7\" >-0.000600</td>\n",
       "      <td id=\"T_0a9ab_row8_col8\" class=\"data row8 col8\" >1.000000</td>\n",
       "      <td id=\"T_0a9ab_row8_col9\" class=\"data row8 col9\" >-0.300252</td>\n",
       "      <td id=\"T_0a9ab_row8_col10\" class=\"data row8 col10\" >-0.500138</td>\n",
       "      <td id=\"T_0a9ab_row8_col11\" class=\"data row8 col11\" >-0.446522</td>\n",
       "    </tr>\n",
       "    <tr>\n",
       "      <th id=\"T_0a9ab_level0_row9\" class=\"row_heading level0 row9\" >amt_weekends</th>\n",
       "      <td id=\"T_0a9ab_row9_col0\" class=\"data row9 col0\" >0.070895</td>\n",
       "      <td id=\"T_0a9ab_row9_col1\" class=\"data row9 col1\" >0.089801</td>\n",
       "      <td id=\"T_0a9ab_row9_col2\" class=\"data row9 col2\" >-0.025030</td>\n",
       "      <td id=\"T_0a9ab_row9_col3\" class=\"data row9 col3\" >0.034741</td>\n",
       "      <td id=\"T_0a9ab_row9_col4\" class=\"data row9 col4\" >0.027990</td>\n",
       "      <td id=\"T_0a9ab_row9_col5\" class=\"data row9 col5\" >0.036222</td>\n",
       "      <td id=\"T_0a9ab_row9_col6\" class=\"data row9 col6\" >-0.012612</td>\n",
       "      <td id=\"T_0a9ab_row9_col7\" class=\"data row9 col7\" >0.047646</td>\n",
       "      <td id=\"T_0a9ab_row9_col8\" class=\"data row9 col8\" >-0.300252</td>\n",
       "      <td id=\"T_0a9ab_row9_col9\" class=\"data row9 col9\" >1.000000</td>\n",
       "      <td id=\"T_0a9ab_row9_col10\" class=\"data row9 col10\" >0.812655</td>\n",
       "      <td id=\"T_0a9ab_row9_col11\" class=\"data row9 col11\" >0.040860</td>\n",
       "    </tr>\n",
       "    <tr>\n",
       "      <th id=\"T_0a9ab_level0_row10\" class=\"row_heading level0 row10\" >amt_weekdays</th>\n",
       "      <td id=\"T_0a9ab_row10_col0\" class=\"data row10 col0\" >0.080391</td>\n",
       "      <td id=\"T_0a9ab_row10_col1\" class=\"data row10 col1\" >0.181339</td>\n",
       "      <td id=\"T_0a9ab_row10_col2\" class=\"data row10 col2\" >-0.040286</td>\n",
       "      <td id=\"T_0a9ab_row10_col3\" class=\"data row10 col3\" >0.017708</td>\n",
       "      <td id=\"T_0a9ab_row10_col4\" class=\"data row10 col4\" >0.029436</td>\n",
       "      <td id=\"T_0a9ab_row10_col5\" class=\"data row10 col5\" >0.014887</td>\n",
       "      <td id=\"T_0a9ab_row10_col6\" class=\"data row10 col6\" >-0.015437</td>\n",
       "      <td id=\"T_0a9ab_row10_col7\" class=\"data row10 col7\" >0.052823</td>\n",
       "      <td id=\"T_0a9ab_row10_col8\" class=\"data row10 col8\" >-0.500138</td>\n",
       "      <td id=\"T_0a9ab_row10_col9\" class=\"data row10 col9\" >0.812655</td>\n",
       "      <td id=\"T_0a9ab_row10_col10\" class=\"data row10 col10\" >1.000000</td>\n",
       "      <td id=\"T_0a9ab_row10_col11\" class=\"data row10 col11\" >0.133689</td>\n",
       "    </tr>\n",
       "    <tr>\n",
       "      <th id=\"T_0a9ab_level0_row11\" class=\"row_heading level0 row11\" >type</th>\n",
       "      <td id=\"T_0a9ab_row11_col0\" class=\"data row11 col0\" >-0.081383</td>\n",
       "      <td id=\"T_0a9ab_row11_col1\" class=\"data row11 col1\" >0.129763</td>\n",
       "      <td id=\"T_0a9ab_row11_col2\" class=\"data row11 col2\" >-0.036637</td>\n",
       "      <td id=\"T_0a9ab_row11_col3\" class=\"data row11 col3\" >-0.028660</td>\n",
       "      <td id=\"T_0a9ab_row11_col4\" class=\"data row11 col4\" >-0.010677</td>\n",
       "      <td id=\"T_0a9ab_row11_col5\" class=\"data row11 col5\" >-0.012334</td>\n",
       "      <td id=\"T_0a9ab_row11_col6\" class=\"data row11 col6\" >0.035419</td>\n",
       "      <td id=\"T_0a9ab_row11_col7\" class=\"data row11 col7\" >-0.027220</td>\n",
       "      <td id=\"T_0a9ab_row11_col8\" class=\"data row11 col8\" >-0.446522</td>\n",
       "      <td id=\"T_0a9ab_row11_col9\" class=\"data row11 col9\" >0.040860</td>\n",
       "      <td id=\"T_0a9ab_row11_col10\" class=\"data row11 col10\" >0.133689</td>\n",
       "      <td id=\"T_0a9ab_row11_col11\" class=\"data row11 col11\" >1.000000</td>\n",
       "    </tr>\n",
       "  </tbody>\n",
       "</table>\n"
      ],
      "text/plain": [
       "<pandas.io.formats.style.Styler at 0x2368b5a8310>"
      ]
     },
     "execution_count": 38,
     "metadata": {},
     "output_type": "execute_result"
    }
   ],
   "source": [
    "cor=df.corr()\n",
    "cor.style.background_gradient(cmap='Purples')"
   ]
  },
  {
   "cell_type": "code",
   "execution_count": 39,
   "id": "4a01249e",
   "metadata": {},
   "outputs": [],
   "source": [
    "# Train Test splitting.\n",
    "from sklearn.model_selection import train_test_split"
   ]
  },
  {
   "cell_type": "code",
   "execution_count": 41,
   "id": "45ddd036",
   "metadata": {},
   "outputs": [],
   "source": [
    "x=df[['gender','age','marital_status','highest_qualification','nationality','ethnicity','gross_income','region','amt_weekends','amt_weekdays','type']]\n",
    "y=df['smoke']"
   ]
  },
  {
   "cell_type": "code",
   "execution_count": 42,
   "id": "d0420375",
   "metadata": {},
   "outputs": [],
   "source": [
    "xtrain,xtest,ytrain,ytest=train_test_split(x,y,test_size=0.2,random_state=0)"
   ]
  },
  {
   "cell_type": "code",
   "execution_count": 57,
   "id": "1d75bff7",
   "metadata": {},
   "outputs": [],
   "source": [
    "# Scaling.\n",
    "from sklearn.preprocessing import StandardScaler"
   ]
  },
  {
   "cell_type": "code",
   "execution_count": 58,
   "id": "de540a13",
   "metadata": {},
   "outputs": [],
   "source": [
    "sc=StandardScaler()"
   ]
  },
  {
   "cell_type": "code",
   "execution_count": 59,
   "id": "fa479b41",
   "metadata": {},
   "outputs": [],
   "source": [
    "xtrain=sc.fit_transform(xtrain)\n",
    "xtest=sc.transform(xtest)"
   ]
  },
  {
   "cell_type": "code",
   "execution_count": 60,
   "id": "8890f574",
   "metadata": {},
   "outputs": [
    {
     "data": {
      "text/plain": [
       "array([[ 1.16421677,  0.67304154, -0.6831204 , ...,  0.15166533,\n",
       "         0.27544664,  0.26101684],\n",
       "       [-0.85894657,  0.35377875, -0.6831204 , ...,  0.15166533,\n",
       "         0.27544664,  0.26101684],\n",
       "       [-0.85894657,  0.40698922, -0.6831204 , ...,  0.15166533,\n",
       "         0.27544664,  0.26101684],\n",
       "       ...,\n",
       "       [-0.85894657,  1.2051462 ,  0.10357362, ...,  0.15166533,\n",
       "         0.27544664,  0.26101684],\n",
       "       [ 1.16421677, -0.71043055, -0.6831204 , ...,  0.15166533,\n",
       "         0.27544664,  0.26101684],\n",
       "       [ 1.16421677,  1.2051462 , -0.6831204 , ...,  0.15166533,\n",
       "         0.27544664,  0.26101684]])"
      ]
     },
     "execution_count": 60,
     "metadata": {},
     "output_type": "execute_result"
    }
   ],
   "source": [
    "xtrain"
   ]
  },
  {
   "cell_type": "code",
   "execution_count": 61,
   "id": "f8c6ee89",
   "metadata": {},
   "outputs": [],
   "source": [
    "# Model building.\n",
    "from sklearn.linear_model import LogisticRegression"
   ]
  },
  {
   "cell_type": "code",
   "execution_count": 62,
   "id": "2d8ddb5d",
   "metadata": {},
   "outputs": [],
   "source": [
    "mod=LogisticRegression()"
   ]
  },
  {
   "cell_type": "code",
   "execution_count": 63,
   "id": "5b0f81bc",
   "metadata": {},
   "outputs": [
    {
     "data": {
      "text/plain": [
       "LogisticRegression()"
      ]
     },
     "execution_count": 63,
     "metadata": {},
     "output_type": "execute_result"
    }
   ],
   "source": [
    "mod.fit(xtrain,ytrain)"
   ]
  },
  {
   "cell_type": "code",
   "execution_count": 64,
   "id": "88d86f4a",
   "metadata": {},
   "outputs": [
    {
     "name": "stdout",
     "output_type": "stream",
     "text": [
      "[0 1 0 1 0 0 0 0 0 0 0 1 0 0 0 0 0 0 0 0 0 0 1 0 0 0 0 0 1 0 0 0 0 1 0 0 1\n",
      " 0 0 0 1 0 0 0 0 1 0 0 0 0 1 1 0 0 0 0 0 0 0 0 1 0 0 0 0 0 0 0 0 0 0 0 0 0\n",
      " 1 0 0 0 0 0 0 1 1 0 1 0 0 0 0 0 0 0 0 0 0 0 0 0 0 0 0 0 0 0 0 0 1 0 0 0 0\n",
      " 0 0 0 0 0 0 0 0 0 1 0 1 0 0 0 0 0 1 0 0 0 0 0 0 0 0 0 0 1 0 0 1 1 0 0 1 0\n",
      " 0 0 1 0 0 1 1 0 0 0 0 0 0 0 0 0 0 0 0 0 0 1 1 1 0 0 0 0 0 0 0 0 0 0 0 0 0\n",
      " 0 0 1 0 0 0 0 0 0 0 0 1 0 0 0 0 0 1 0 0 0 0 1 0 0 1 0 0 0 0 0 0 0 0 0 0 0\n",
      " 0 0 0 0 1 1 0 0 0 1 0 0 0 0 1 0 0 0 1 0 0 0 0 0 0 0 0 0 0 1 0 0 0 0 1 0 0\n",
      " 0 0 0 0 0 0 1 0 0 0 1 0 0 0 0 1 1 1 0 1 0 0 1 0 0 0 0 0 0 0 0 0 0 1 0 0 0\n",
      " 0 1 0 1 0 1 0 0 0 1 1 0 0 1 0 0 0 0 0 0 0 0 0 0 0 0 1 0 0 0 0 0 0 0 0 0 1\n",
      " 0 0 0 1 0 0]\n"
     ]
    }
   ],
   "source": [
    "pred=mod.predict(xtest)\n",
    "print(pred)"
   ]
  },
  {
   "cell_type": "code",
   "execution_count": 65,
   "id": "1b9178f0",
   "metadata": {},
   "outputs": [],
   "source": [
    "# Confusion Matrix.\n",
    "from sklearn.metrics import confusion_matrix"
   ]
  },
  {
   "cell_type": "code",
   "execution_count": 66,
   "id": "2a8a4d31",
   "metadata": {},
   "outputs": [
    {
     "name": "stdout",
     "output_type": "stream",
     "text": [
      "Confusion Matrix is: \n",
      " [[255   0]\n",
      " [ 25  59]]\n"
     ]
    }
   ],
   "source": [
    "c=confusion_matrix(ytest,pred)\n",
    "print(\"Confusion Matrix is: \\n\",c)"
   ]
  },
  {
   "cell_type": "code",
   "execution_count": 71,
   "id": "a51002ce",
   "metadata": {},
   "outputs": [
    {
     "data": {
      "image/png": "[encoded data removed]",
      "text/plain": [
       "<Figure size 640x480 with 2 Axes>"
      ]
     },
     "metadata": {},
     "output_type": "display_data"
    }
   ],
   "source": [
    "sns.heatmap(c,annot=True,fmt='g',cmap='Greens',xticklabels=['Yes','No'],yticklabels=['Yes','No'])\n",
    "plt.xlabel('Actual',fontsize=15)\n",
    "plt.ylabel('Prediction',fontsize=15)\n",
    "plt.title(\"Confusion Matrix\",fontsize=19)\n",
    "plt.show()"
   ]
  },
  {
   "cell_type": "code",
   "execution_count": 68,
   "id": "96959d5f",
   "metadata": {},
   "outputs": [],
   "source": [
    "# Evaluating Scores.\n",
    "from sklearn.metrics import accuracy_score\n",
    "from sklearn.metrics import precision_score\n",
    "from sklearn.metrics import recall_score\n",
    "from sklearn.metrics import f1_score"
   ]
  },
  {
   "cell_type": "code",
   "execution_count": 69,
   "id": "7a628019",
   "metadata": {},
   "outputs": [
    {
     "name": "stdout",
     "output_type": "stream",
     "text": [
      "Accuracy is: 92.62536873156341\n",
      "Precision: 100.0\n",
      "Recall: 70.23809523809523\n",
      "F1 Score: 82.5174825174825\n"
     ]
    }
   ],
   "source": [
    "acc=accuracy_score(ytest,pred)\n",
    "print(\"Accuracy is:\",acc*100)\n",
    "pre=precision_score(ytest,pred)\n",
    "print(\"Precision:\",pre*100)\n",
    "rec=recall_score(ytest,pred)\n",
    "print(\"Recall:\",rec*100)\n",
    "F1=f1_score(ytest,pred)\n",
    "print(\"F1 Score:\",F1*100)"
   ]
  }
 ],
 "metadata": {
  "kernelspec": {
   "display_name": "Python 3 (ipykernel)",
   "language": "python",
   "name": "python3"
  },
  "language_info": {
   "codemirror_mode": {
    "name": "ipython",
    "version": 3
   },
   "file_extension": ".py",
   "mimetype": "text/x-python",
   "name": "python",
   "nbconvert_exporter": "python",
   "pygments_lexer": "ipython3",
   "version": "3.9.13"
  }
 },
 "nbformat": 4,
 "nbformat_minor": 5
}
